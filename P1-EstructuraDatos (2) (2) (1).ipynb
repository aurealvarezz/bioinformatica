{
 "cells": [
  {
   "cell_type": "markdown",
   "id": "57e5a4ba",
   "metadata": {},
   "source": [
    "# PRACTICA 1\n",
    "\n",
    "### Resuelve las siguientes preguntas empleando lo aprendido con las estructuras de Datos"
   ]
  },
  {
   "cell_type": "markdown",
   "id": "092831f1",
   "metadata": {},
   "source": [
    "Pon el código debajo de cada pregunta. Añade tantas celdas de código como necesites."
   ]
  },
  {
   "cell_type": "markdown",
   "id": "94b6abb8",
   "metadata": {},
   "source": [
    "#### 1.- Escribe una ecuación que emplee multiplicación, división, un exponente, suma y resta y que sea igual a 100.25. (0,25 ptos)"
   ]
  },
  {
   "cell_type": "code",
   "execution_count": 3,
   "id": "ab78da40-166b-45c3-b7b2-5ec7742d408f",
   "metadata": {},
   "outputs": [
    {
     "name": "stdout",
     "output_type": "stream",
     "text": [
      "El resultado es: 100.25\n"
     ]
    }
   ],
   "source": [
    "resultado = (20 * 5) + (10 / 4) - (2 ** 2) + 1.75\n",
    "print(\"El resultado es:\", resultado)"
   ]
  },
  {
   "cell_type": "markdown",
   "id": "95ec00dc",
   "metadata": {},
   "source": [
    "#### 2.- ¿Qué harías para obtener la raíz cuadrada de 100? Busca dos formas. (0,5 ptos)"
   ]
  },
  {
   "cell_type": "code",
   "execution_count": 5,
   "id": "d1476ef0",
   "metadata": {},
   "outputs": [
    {
     "name": "stdout",
     "output_type": "stream",
     "text": [
      "Raíz cuadrada con **: 10.0\n"
     ]
    }
   ],
   "source": [
    "raiz1 = 100 ** 0.5\n",
    "print(\"Raíz cuadrada con **:\", raiz1)"
   ]
  },
  {
   "cell_type": "code",
   "execution_count": 11,
   "id": "f1bfea67-3d7f-4d58-aa6a-cd2cb62e5282",
   "metadata": {},
   "outputs": [
    {
     "name": "stdout",
     "output_type": "stream",
     "text": [
      "Raíz cuadrada con math.sqrt: 10.0\n"
     ]
    }
   ],
   "source": [
    "import math\n",
    "raiz2 = math.sqrt(100)\n",
    "print(\"Raíz cuadrada con math.sqrt:\", raiz2)"
   ]
  },
  {
   "cell_type": "markdown",
   "id": "95232620",
   "metadata": {},
   "source": [
    "#### 3.- ¿Y el cuadrado de 100? (0,25 ptos)"
   ]
  },
  {
   "cell_type": "code",
   "execution_count": 13,
   "id": "14249667",
   "metadata": {},
   "outputs": [
    {
     "name": "stdout",
     "output_type": "stream",
     "text": [
      "Cuadrado con **: 10000\n"
     ]
    }
   ],
   "source": [
    "cuadrado1 = 100 ** 2\n",
    "print(\"Cuadrado con **:\", cuadrado1)"
   ]
  },
  {
   "cell_type": "markdown",
   "id": "7fc5bfae",
   "metadata": {},
   "source": [
    "#### 4.- Tenemos la string 'hello'. (0,5 ptos)\n",
    "#### Primero devuelve la letra 'e'\n",
    "#### Luego dale la vuelta a la string \n",
    "#### Después usa dos métodos para devolver la letra 'o'"
   ]
  },
  {
   "cell_type": "code",
   "execution_count": null,
   "id": "a6d0eb90",
   "metadata": {},
   "outputs": [],
   "source": [
    "s = 'hello'"
   ]
  },
  {
   "cell_type": "code",
   "execution_count": 15,
   "id": "a3f33800",
   "metadata": {},
   "outputs": [
    {
     "name": "stdout",
     "output_type": "stream",
     "text": [
      "e\n"
     ]
    }
   ],
   "source": [
    "palabra = \"hello\"\n",
    "print(palabra[1])"
   ]
  },
  {
   "cell_type": "code",
   "execution_count": 19,
   "id": "88727a27-eab6-4eb5-b7b0-9548af7b331b",
   "metadata": {},
   "outputs": [
    {
     "name": "stdout",
     "output_type": "stream",
     "text": [
      "olleh\n"
     ]
    }
   ],
   "source": [
    "print(palabra[::-1])\n"
   ]
  },
  {
   "cell_type": "code",
   "execution_count": 21,
   "id": "be58e6a2-47fa-44d0-bd4c-8e98b847512e",
   "metadata": {},
   "outputs": [
    {
     "name": "stdout",
     "output_type": "stream",
     "text": [
      "o\n"
     ]
    }
   ],
   "source": [
    "print(palabra[4])"
   ]
  },
  {
   "cell_type": "code",
   "execution_count": 23,
   "id": "5ec0365a-4e7b-4889-b60a-0c0a4be065e3",
   "metadata": {},
   "outputs": [
    {
     "name": "stdout",
     "output_type": "stream",
     "text": [
      "o\n"
     ]
    }
   ],
   "source": [
    "print(palabra[-1])"
   ]
  },
  {
   "cell_type": "markdown",
   "id": "0febc918",
   "metadata": {},
   "source": [
    "#### 5.- Crear una lista que contenga esto [0,0,0] de dos formas distintas (0,5 ptos)"
   ]
  },
  {
   "cell_type": "code",
   "execution_count": 25,
   "id": "30981b24",
   "metadata": {},
   "outputs": [
    {
     "name": "stdout",
     "output_type": "stream",
     "text": [
      "[0, 0, 0]\n"
     ]
    }
   ],
   "source": [
    "lista1= [0, 0, 0]\n",
    "print(lista1)"
   ]
  },
  {
   "cell_type": "code",
   "execution_count": 29,
   "id": "4f8ab4d2-befd-4bf1-82f6-0a9bf8c7fe00",
   "metadata": {},
   "outputs": [
    {
     "name": "stdout",
     "output_type": "stream",
     "text": [
      "[0, 0, 0]\n"
     ]
    }
   ],
   "source": [
    "lista2 6.- [0] * 3\n",
    "print(lista2)"
   ]
  },
  {
   "cell_type": "markdown",
   "id": "80e1a951",
   "metadata": {},
   "source": [
    "#### 6.- Reasigna 'hello' en la lista a continuación para que diga 'goodbye' (1 pto)"
   ]
  },
  {
   "cell_type": "code",
   "execution_count": 37,
   "id": "20d1ebdf",
   "metadata": {},
   "outputs": [],
   "source": [
    "lista = [1,2,[3,4, 'hello']]"
   ]
  },
  {
   "cell_type": "code",
   "execution_count": 39,
   "id": "7403d39c-be40-4cc6-af75-4a408fe8b3e2",
   "metadata": {},
   "outputs": [
    {
     "name": "stdout",
     "output_type": "stream",
     "text": [
      "[1, 2, [3, 4, 'goodbye']]\n"
     ]
    }
   ],
   "source": [
    "lista[2]\n",
    "lista[2][2] = 'goodbye'\n",
    "print(lista)"
   ]
  },
  {
   "cell_type": "markdown",
   "id": "77e38490",
   "metadata": {},
   "source": [
    "#### 7.- Ordena la siguiente lista (0,5 ptos)"
   ]
  },
  {
   "cell_type": "code",
   "execution_count": null,
   "id": "bc957d55",
   "metadata": {},
   "outputs": [],
   "source": [
    "listaSinOrdenar = [5,3,4,6,1]"
   ]
  },
  {
   "cell_type": "code",
   "execution_count": 41,
   "id": "e2c2fb65",
   "metadata": {},
   "outputs": [
    {
     "name": "stdout",
     "output_type": "stream",
     "text": [
      "[1, 3, 4, 5, 6]\n"
     ]
    }
   ],
   "source": [
    "listaSinOrdenar = [5, 3, 4, 6, 1]\n",
    "listaOrdenada = sorted(listaSinOrdenar)\n",
    "print(listaOrdenada)"
   ]
  },
  {
   "cell_type": "markdown",
   "id": "0cc790ac",
   "metadata": {},
   "source": [
    "#### 8.- En los siguientes diccionarios, extrae el valor de 'hello (2 ptos)"
   ]
  },
  {
   "cell_type": "code",
   "execution_count": 86,
   "id": "c390a0bb",
   "metadata": {},
   "outputs": [
    {
     "ename": "SyntaxError",
     "evalue": "unterminated string literal (detected at line 1) (2055391238.py, line 1)",
     "output_type": "error",
     "traceback": [
      "\u001b[1;36m  Cell \u001b[1;32mIn[86], line 1\u001b[1;36m\u001b[0m\n\u001b[1;33m    f = {'k1 >{'k2' > 'hello'}}\u001b[0m\n\u001b[1;37m                            ^\u001b[0m\n\u001b[1;31mSyntaxError\u001b[0m\u001b[1;31m:\u001b[0m unterminated string literal (detected at line 1)\n"
     ]
    }
   ],
   "source": [
    "f = {'k1 >{'k2' > 'hello'}}"
   ]
  },
  {
   "cell_type": "code",
   "execution_count": 94,
   "id": "64e8896d-173d-4739-94f2-91799da21902",
   "metadata": {},
   "outputs": [
    {
     "name": "stdout",
     "output_type": "stream",
     "text": [
      "hello\n"
     ]
    }
   ],
   "source": [
    "f = {'k1': {'k2': 'hello'}}\n",
    "print(f['k1']['k2'])"
   ]
  },
  {
   "cell_type": "code",
   "execution_count": 63,
   "id": "c0244e1f",
   "metadata": {},
   "outputs": [
    {
     "ename": "SyntaxError",
     "evalue": "incomplete input (87208365.py, line 2)",
     "output_type": "error",
     "traceback": [
      "\u001b[1;36m  Cell \u001b[1;32mIn[63], line 2\u001b[1;36m\u001b[0m\n\u001b[1;33m    print(d['key1']\u001b[0m\n\u001b[1;37m                   ^\u001b[0m\n\u001b[1;31mSyntaxError\u001b[0m\u001b[1;31m:\u001b[0m incomplete input\n"
     ]
    }
   ],
   "source": [
    "d = {'key1':'hello'}"
   ]
  },
  {
   "cell_type": "code",
   "execution_count": 92,
   "id": "196ef04c",
   "metadata": {},
   "outputs": [
    {
     "name": "stdout",
     "output_type": "stream",
     "text": [
      "hello\n"
     ]
    }
   ],
   "source": [
    "d = {'key1': 'hello'}\n",
    "print(d['key1'])"
   ]
  },
  {
   "cell_type": "code",
   "execution_count": null,
   "id": "344d780b",
   "metadata": {},
   "outputs": [],
   "source": [
    "g = {'k1':[{'o1':['valor escondido',['hello']]}]}"
   ]
  },
  {
   "cell_type": "code",
   "execution_count": 88,
   "id": "e965a858",
   "metadata": {},
   "outputs": [
    {
     "name": "stdout",
     "output_type": "stream",
     "text": [
      "hello\n"
     ]
    }
   ],
   "source": [
    "g = {'k1': [{'o1': ['valor escondido', ['hello']]}]}\n",
    "print(g['k1'][0]['o1'][1][0])\n"
   ]
  },
  {
   "cell_type": "code",
   "execution_count": null,
   "id": "663f9ffd",
   "metadata": {},
   "outputs": [],
   "source": [
    "h = {'k1':[1,2,{'k2':['complicado',{'dificil':[1,2,['hello']]}]}]}"
   ]
  },
  {
   "cell_type": "code",
   "execution_count": 90,
   "id": "9b9d7d97",
   "metadata": {},
   "outputs": [
    {
     "name": "stdout",
     "output_type": "stream",
     "text": [
      "hello\n"
     ]
    }
   ],
   "source": [
    "h = {'k1': [1, 2, {'k2': ['complicado', {'dificil': [1, 2, ['hello']]}]}]}\n",
    "print(h['k1'][2]['k2'][1]['dificil'][2][0])\n"
   ]
  },
  {
   "cell_type": "markdown",
   "id": "7692eea8",
   "metadata": {},
   "source": [
    "#### 9.- Crea una tupla (1 pto)"
   ]
  },
  {
   "cell_type": "code",
   "execution_count": 47,
   "id": "23886da1",
   "metadata": {},
   "outputs": [
    {
     "name": "stdout",
     "output_type": "stream",
     "text": [
      "(1, 2, 3, 4)\n"
     ]
    }
   ],
   "source": [
    "mi_tupla = (1, 2, 3, 4)\n",
    "print(mi_tupla)"
   ]
  },
  {
   "cell_type": "code",
   "execution_count": 49,
   "id": "33e1e6c0-3c0e-4db2-8c9e-6d59a6dc37d1",
   "metadata": {},
   "outputs": [
    {
     "name": "stdout",
     "output_type": "stream",
     "text": [
      "(5,)\n"
     ]
    }
   ],
   "source": [
    "tupla_un_elemento = (5,)\n",
    "print(tupla_un_elemento)"
   ]
  },
  {
   "cell_type": "markdown",
   "id": "6231d723",
   "metadata": {},
   "source": [
    "#### 10.- Emplea los sets para encontrar los valores únicos de esta lista (0,5 ptos)"
   ]
  },
  {
   "cell_type": "code",
   "execution_count": null,
   "id": "a7cbba3a",
   "metadata": {},
   "outputs": [],
   "source": [
    "listaDuplicada = [1,2,2,33,4,4,11,22,3,3,2]"
   ]
  },
  {
   "cell_type": "code",
   "execution_count": 51,
   "id": "71da8284",
   "metadata": {},
   "outputs": [
    {
     "name": "stdout",
     "output_type": "stream",
     "text": [
      "{1, 2, 33, 4, 3, 11, 22}\n"
     ]
    }
   ],
   "source": [
    "listaDuplicada = [1, 2, 2, 33, 4, 4, 11, 22, 3, 3, 2]\n",
    "valores_unicos = set(listaDuplicada)\n",
    "print(valores_unicos)"
   ]
  },
  {
   "cell_type": "code",
   "execution_count": 53,
   "id": "6195cd32-9106-4504-8338-485807eff45d",
   "metadata": {},
   "outputs": [
    {
     "name": "stdout",
     "output_type": "stream",
     "text": [
      "[1, 2, 3, 4, 11, 22, 33]\n"
     ]
    }
   ],
   "source": [
    "valores_unicos_ordenados = sorted(list(valores_unicos))\n",
    "print(valores_unicos_ordenados)"
   ]
  },
  {
   "cell_type": "markdown",
   "id": "9b217cfc",
   "metadata": {},
   "source": [
    "#### 11.- Haz las siguientes comparaciones: (0,5 ptos)\n",
    "#### Dos mayor que tres\n",
    "#### Tres igual que 2\n",
    "#### La raíz cuadrada de cuatro no es igual a 2\n",
    "#### Se cumple si 6 es mayor que 5 y 7 menor de 8\n",
    "#### Se cumple si la longitud de _nombre_ es  que el número de elementos de _colores_ o si la longitud de _nombre_ es menor de 7."
   ]
  },
  {
   "cell_type": "code",
   "execution_count": null,
   "id": "59b70e21",
   "metadata": {},
   "outputs": [],
   "source": [
    "# 2 mayor que 3"
   ]
  },
  {
   "cell_type": "code",
   "execution_count": 55,
   "id": "d65a632c-16d6-4524-8de7-9bb9ed06f064",
   "metadata": {},
   "outputs": [
    {
     "name": "stdout",
     "output_type": "stream",
     "text": [
      "False\n"
     ]
    }
   ],
   "source": [
    "resultado1 = 2 > 3\n",
    "print(resultado1)"
   ]
  },
  {
   "cell_type": "code",
   "execution_count": null,
   "id": "89985eaf",
   "metadata": {},
   "outputs": [],
   "source": [
    "# 3 igual que 2"
   ]
  },
  {
   "cell_type": "code",
   "execution_count": 57,
   "id": "29b8bd1e-7730-4e41-bcd2-95b568b9a448",
   "metadata": {},
   "outputs": [
    {
     "name": "stdout",
     "output_type": "stream",
     "text": [
      "False\n"
     ]
    }
   ],
   "source": [
    "resultado2 = 3 == 2\n",
    "print(resultado2)"
   ]
  },
  {
   "cell_type": "code",
   "execution_count": null,
   "id": "16c4febf",
   "metadata": {},
   "outputs": [],
   "source": [
    "# raíz cuadrada de 4 no es igual a 2"
   ]
  },
  {
   "cell_type": "code",
   "execution_count": 59,
   "id": "be982e3f-8590-44d7-9d84-0a3924ce5030",
   "metadata": {},
   "outputs": [
    {
     "name": "stdout",
     "output_type": "stream",
     "text": [
      "False\n"
     ]
    }
   ],
   "source": [
    "import math\n",
    "resultado3 = math.sqrt(4) != 2\n",
    "print(resultado3)"
   ]
  },
  {
   "cell_type": "code",
   "execution_count": 72,
   "id": "e5ed7361-8611-4c1f-bebe-4f4247800baa",
   "metadata": {},
   "outputs": [],
   "source": [
    "nombre = \"Pepito\"\n",
    "colores = [\"azul\",\"rojo\",\"verde\",\"lila\",\"amarillo limón\"]"
   ]
  },
  {
   "cell_type": "code",
   "execution_count": 74,
   "id": "cbb07c78-dbcc-4a58-b0eb-32ebc0d52cf3",
   "metadata": {},
   "outputs": [
    {
     "data": {
      "text/plain": [
       "True"
      ]
     },
     "execution_count": 74,
     "metadata": {},
     "output_type": "execute_result"
    }
   ],
   "source": [
    "len(nombre) == len (colores) or len(nombre) < 7"
   ]
  },
  {
   "cell_type": "code",
   "execution_count": null,
   "id": "f28f7c70-f62b-4622-947f-398470f3d8bd",
   "metadata": {},
   "outputs": [],
   "source": [
    "Se cumple si 6 es mayor que 5 y 7 menor de 8"
   ]
  },
  {
   "cell_type": "code",
   "execution_count": 76,
   "id": "44b479e3-3606-48c4-97ef-6a62fb181a09",
   "metadata": {},
   "outputs": [
    {
     "name": "stdout",
     "output_type": "stream",
     "text": [
      "True\n"
     ]
    }
   ],
   "source": [
    "resultado4 = 6 > 5 and 7 < 8\n",
    "print(resultado4)"
   ]
  },
  {
   "cell_type": "markdown",
   "id": "bc1471d1-0d87-4c9d-8a0f-e2d735f2c764",
   "metadata": {},
   "source": [
    "#### 12.- Crea un archivo mediante código que se llame _tabla-nombres.txt_ y que esté formado por 4 columnas y 4 filas con la siguiente formación (1,5 ptos):\n",
    "#### Primera columna: Nombre\n",
    "#### Segunda columna: Apellidos (2 apellidos)\n",
    "#### Tercera columna: Edad\n",
    "#### Cuarta columna: Mascotas (nombre de la mascota si tienen)\n",
    "\n",
    "#### ¿Qué pasa si abres el archivo desde Jupyter y has metido acentos? ¿Puedes solucionarlo?"
   ]
  },
  {
   "cell_type": "code",
   "execution_count": 107,
   "id": "1ce5ecc5-05c2-41ee-8080-6270258a1d88",
   "metadata": {},
   "outputs": [
    {
     "name": "stdout",
     "output_type": "stream",
     "text": [
      "Nombre\tApellidos\t\tEdad\tMascotas\n",
      "Aurea\tAlvarez Alvarez\t21\t1\n",
      "José\tOtero Mediero\t\t21\t-\n",
      "Antonio\tHermosilla Motales\t21\t-\n",
      "Sofia\tGarcia Gomez\t\t21\t-\n",
      "\n"
     ]
    }
   ],
   "source": [
    "with open(\"tabla-nombres.txt\", \"w\", encoding=\"utf-8\") as f:\n",
    "    f.write(\"Nombre\\tApellidos\\t\\tEdad\\tMascotas\\n\")\n",
    "    f.write(\"Aurea\\tAlvarez Alvarez\\t21\\t1\\n\")\n",
    "    f.write(\"José\\tOtero Mediero\\t\\t21\\t-\\n\")\n",
    "    f.write(\"Antonio\\tHermosilla Motales\\t21\\t-\\n\")\n",
    "    f.write(\"Sofia\\tGarcia Gomez\\t\\t21\\t-\\n\")\n",
    "with open(\"tabla-nombres.txt\", \"r\", encoding=\"utf-8\") as f:\n",
    "    contenido = f.read()\n",
    "    print(contenido)"
   ]
  },
  {
   "cell_type": "markdown",
   "id": "acfdde50-7f35-499e-b8dc-f8246dfaefb3",
   "metadata": {},
   "source": [
    "#### 13.- Crea un diccionario que contenga las siguientes parejas. Obtén el listado de keys() y guárdalo en una lista. Añade un par de elementos más y después convierte esa lista en un set (1 pto).\n",
    "\n",
    "#### Rattus = novergicus, rattus\n",
    "#### Glaucidium = brasilianum, hoskinsii, californicum, minutissimum\n",
    "#### Echinocactus = grusonii\n",
    "#### Opuntia = 1\n"
   ]
  },
  {
   "cell_type": "code",
   "execution_count": 84,
   "id": "c92024a1-08cf-4ca9-9d8e-40402909e024",
   "metadata": {},
   "outputs": [
    {
     "name": "stdout",
     "output_type": "stream",
     "text": [
      "['Rattus', 'Glaucidium', 'Echinocactus', 'Opuntia']\n",
      "dict_keys(['Rattus', 'Glaucidium', 'Echinocactus', 'Opuntia', 'Canis', 'Panthera'])\n",
      "{'Glaucidium', 'Opuntia', 'Echinocactus', 'Canis', 'Panthera', 'Rattus'}\n"
     ]
    }
   ],
   "source": [
    "diccionario = {\n",
    "    \"Rattus\": [\"noverginicus\", \"rattus\"],\n",
    "    \"Glaucidium\": [\"brasilianum\", \"hoskinsii\", \"californicum\", \"minutissimum\"],\n",
    "    \"Echinocactus\": [\"grusonii\"],\n",
    "    \"Opuntia\": [1]\n",
    "}\n",
    "lista = list(diccionario.keys())\n",
    "print(lista)\n",
    "diccionario[\"Canis\"] = [\"latrans\", \"aureus\"]\n",
    "diccionario[\"Panthera\"] = [\"leo\"]\n",
    "print(diccionario.keys())\n",
    "setclaves = set(lista + [\"Canis\", \"Panthera\"])\n",
    "print(setclaves)\n"
   ]
  }
 ],
 "metadata": {
  "kernelspec": {
   "display_name": "Python [conda env:base] *",
   "language": "python",
   "name": "conda-base-py"
  },
  "language_info": {
   "codemirror_mode": {
    "name": "ipython",
    "version": 3
   },
   "file_extension": ".py",
   "mimetype": "text/x-python",
   "name": "python",
   "nbconvert_exporter": "python",
   "pygments_lexer": "ipython3",
   "version": "3.12.7"
  }
 },
 "nbformat": 4,
 "nbformat_minor": 5
}
